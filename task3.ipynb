{
 "cells": [
  {
   "cell_type": "markdown",
   "id": "1df29eda",
   "metadata": {
    "id": "1df29eda"
   },
   "source": [
    "Step 0. Unzip enron1.zip into the current directory."
   ]
  },
  {
   "cell_type": "markdown",
   "id": "bf32cfce",
   "metadata": {
    "id": "bf32cfce"
   },
   "source": [
    "Step 1. Traverse the dataset and create a Pandas dataframe. This is already done for you and should run without any errors. You should recognize Pandas from task 1."
   ]
  },
  {
   "cell_type": "code",
   "execution_count": 2,
   "id": "20c5d195",
   "metadata": {
    "id": "20c5d195"
   },
   "outputs": [
    {
     "name": "stdout",
     "output_type": "stream",
     "text": [
      "skipped 2248.2004-09-23.GP.spam.txt\n",
      "skipped 2526.2004-10-17.GP.spam.txt\n",
      "skipped 2698.2004-10-31.GP.spam.txt\n",
      "skipped 4566.2005-05-24.GP.spam.txt\n"
     ]
    },
    {
     "name": "stderr",
     "output_type": "stream",
     "text": [
      "C:\\Users\\garvi\\AppData\\Local\\Temp\\ipykernel_3652\\217166261.py:31: FutureWarning: The frame.append method is deprecated and will be removed from pandas in a future version. Use pandas.concat instead.\n",
      "  df = df.append(pd.DataFrame.from_records(spam))\n"
     ]
    }
   ],
   "source": [
    "import pandas as pd\n",
    "import os\n",
    "\n",
    "def read_spam():\n",
    "    category = 'spam'\n",
    "    directory = './enron1/spam'\n",
    "    return read_category(category, directory)\n",
    "\n",
    "def read_ham():\n",
    "    category = 'ham'\n",
    "    directory = './enron1/ham'\n",
    "    return read_category(category, directory)\n",
    "\n",
    "def read_category(category, directory):\n",
    "    emails = []\n",
    "    for filename in os.listdir(directory):\n",
    "        if not filename.endswith(\".txt\"):\n",
    "            continue\n",
    "        with open(os.path.join(directory, filename), 'r') as fp:\n",
    "            try:\n",
    "                content = fp.read()\n",
    "                emails.append({'name': filename, 'content': content, 'category': category})\n",
    "            except:\n",
    "                print(f'skipped {filename}')\n",
    "    return emails\n",
    "\n",
    "ham = read_ham()\n",
    "spam = read_spam()\n",
    "\n",
    "df = pd.DataFrame.from_records(ham)\n",
    "df = df.append(pd.DataFrame.from_records(spam))"
   ]
  },
  {
   "cell_type": "code",
   "execution_count": 3,
   "id": "077dad6a",
   "metadata": {},
   "outputs": [
    {
     "data": {
      "text/html": [
       "<div>\n",
       "<style scoped>\n",
       "    .dataframe tbody tr th:only-of-type {\n",
       "        vertical-align: middle;\n",
       "    }\n",
       "\n",
       "    .dataframe tbody tr th {\n",
       "        vertical-align: top;\n",
       "    }\n",
       "\n",
       "    .dataframe thead th {\n",
       "        text-align: right;\n",
       "    }\n",
       "</style>\n",
       "<table border=\"1\" class=\"dataframe\">\n",
       "  <thead>\n",
       "    <tr style=\"text-align: right;\">\n",
       "      <th></th>\n",
       "      <th>name</th>\n",
       "      <th>content</th>\n",
       "      <th>category</th>\n",
       "    </tr>\n",
       "  </thead>\n",
       "  <tbody>\n",
       "    <tr>\n",
       "      <th>0</th>\n",
       "      <td>0001.1999-12-10.farmer.ham.txt</td>\n",
       "      <td>Subject: christmas tree farm pictures\\n</td>\n",
       "      <td>ham</td>\n",
       "    </tr>\n",
       "    <tr>\n",
       "      <th>1</th>\n",
       "      <td>0002.1999-12-13.farmer.ham.txt</td>\n",
       "      <td>Subject: vastar resources , inc .\\ngary , prod...</td>\n",
       "      <td>ham</td>\n",
       "    </tr>\n",
       "    <tr>\n",
       "      <th>2</th>\n",
       "      <td>0003.1999-12-14.farmer.ham.txt</td>\n",
       "      <td>Subject: Calpine daily gas nomination\\n- calpi...</td>\n",
       "      <td>ham</td>\n",
       "    </tr>\n",
       "    <tr>\n",
       "      <th>3</th>\n",
       "      <td>0004.1999-12-14.farmer.ham.txt</td>\n",
       "      <td>Subject: re : issue\\nfyi - see note below - al...</td>\n",
       "      <td>ham</td>\n",
       "    </tr>\n",
       "    <tr>\n",
       "      <th>4</th>\n",
       "      <td>0005.1999-12-14.farmer.ham.txt</td>\n",
       "      <td>Subject: meter 7268 nov allocation\\nfyi .\\n- -...</td>\n",
       "      <td>ham</td>\n",
       "    </tr>\n",
       "    <tr>\n",
       "      <th>...</th>\n",
       "      <td>...</td>\n",
       "      <td>...</td>\n",
       "      <td>...</td>\n",
       "    </tr>\n",
       "    <tr>\n",
       "      <th>1491</th>\n",
       "      <td>5163.2005-09-06.GP.spam.txt</td>\n",
       "      <td>Subject: our pro - forma invoice attached\\ndiv...</td>\n",
       "      <td>spam</td>\n",
       "    </tr>\n",
       "    <tr>\n",
       "      <th>1492</th>\n",
       "      <td>5164.2005-09-06.GP.spam.txt</td>\n",
       "      <td>Subject: str _ rndlen ( 2 - 4 ) } { extra _ ti...</td>\n",
       "      <td>spam</td>\n",
       "    </tr>\n",
       "    <tr>\n",
       "      <th>1493</th>\n",
       "      <td>5167.2005-09-06.GP.spam.txt</td>\n",
       "      <td>Subject: check me out !\\n61 bb\\nhey derm\\nbbbb...</td>\n",
       "      <td>spam</td>\n",
       "    </tr>\n",
       "    <tr>\n",
       "      <th>1494</th>\n",
       "      <td>5170.2005-09-06.GP.spam.txt</td>\n",
       "      <td>Subject: hot jobs\\nglobal marketing specialtie...</td>\n",
       "      <td>spam</td>\n",
       "    </tr>\n",
       "    <tr>\n",
       "      <th>1495</th>\n",
       "      <td>5171.2005-09-06.GP.spam.txt</td>\n",
       "      <td>Subject: save up to 89 % on ink + no shipping ...</td>\n",
       "      <td>spam</td>\n",
       "    </tr>\n",
       "  </tbody>\n",
       "</table>\n",
       "<p>5168 rows × 3 columns</p>\n",
       "</div>"
      ],
      "text/plain": [
       "                                name  \\\n",
       "0     0001.1999-12-10.farmer.ham.txt   \n",
       "1     0002.1999-12-13.farmer.ham.txt   \n",
       "2     0003.1999-12-14.farmer.ham.txt   \n",
       "3     0004.1999-12-14.farmer.ham.txt   \n",
       "4     0005.1999-12-14.farmer.ham.txt   \n",
       "...                              ...   \n",
       "1491     5163.2005-09-06.GP.spam.txt   \n",
       "1492     5164.2005-09-06.GP.spam.txt   \n",
       "1493     5167.2005-09-06.GP.spam.txt   \n",
       "1494     5170.2005-09-06.GP.spam.txt   \n",
       "1495     5171.2005-09-06.GP.spam.txt   \n",
       "\n",
       "                                                content category  \n",
       "0               Subject: christmas tree farm pictures\\n      ham  \n",
       "1     Subject: vastar resources , inc .\\ngary , prod...      ham  \n",
       "2     Subject: Calpine daily gas nomination\\n- calpi...      ham  \n",
       "3     Subject: re : issue\\nfyi - see note below - al...      ham  \n",
       "4     Subject: meter 7268 nov allocation\\nfyi .\\n- -...      ham  \n",
       "...                                                 ...      ...  \n",
       "1491  Subject: our pro - forma invoice attached\\ndiv...     spam  \n",
       "1492  Subject: str _ rndlen ( 2 - 4 ) } { extra _ ti...     spam  \n",
       "1493  Subject: check me out !\\n61 bb\\nhey derm\\nbbbb...     spam  \n",
       "1494  Subject: hot jobs\\nglobal marketing specialtie...     spam  \n",
       "1495  Subject: save up to 89 % on ink + no shipping ...     spam  \n",
       "\n",
       "[5168 rows x 3 columns]"
      ]
     },
     "execution_count": 3,
     "metadata": {},
     "output_type": "execute_result"
    }
   ],
   "source": [
    "df"
   ]
  },
  {
   "cell_type": "markdown",
   "id": "1a1c23fd",
   "metadata": {
    "id": "1a1c23fd"
   },
   "source": [
    "Step 2. Data cleaning is a critical part of machine learning. You and I can recognize that 'Hello' and 'hello' are the same word but a machine does not know this a priori. Therefore, we can 'help' the machine by conducting such normalization steps for it. Write a function `preprocessor` that takes in a string and replaces all non alphabet characters with a space and then lowercases the result."
   ]
  },
  {
   "cell_type": "code",
   "execution_count": 4,
   "id": "c447c901",
   "metadata": {
    "id": "c447c901"
   },
   "outputs": [],
   "source": [
    "import re\n",
    "\n",
    "def preprocessor(e):\n",
    "    e = re.sub(r\"\\s+\", \" \",e)\n",
    "    e = e.lower()\n",
    "    e = re.sub(r\"[!@#$%^&*();<>;\"\"-_+=?/|]\", \" \", e)\n",
    "    return e"
   ]
  },
  {
   "cell_type": "code",
   "execution_count": 5,
   "id": "fd4760ed",
   "metadata": {},
   "outputs": [],
   "source": [
    "length = len(df)\n",
    "new_df = df[\"content\"]\n",
    "while(length>=0):\n",
    "    df[\"content\"].iloc[length-1] = preprocessor(df[\"content\"].iloc[length-1])\n",
    "    length = length -1   "
   ]
  },
  {
   "cell_type": "markdown",
   "id": "ba32521d",
   "metadata": {
    "id": "ba32521d"
   },
   "source": [
    "Step 3. We will now train the machine learning model. All the functions that you will need are imported for you. The instructions explain how the work and hint at which functions to use. You will likely need to refer to the scikit learn documentation to see how exactly to invoke the functions. It will be handy to keep that tab open."
   ]
  },
  {
   "cell_type": "code",
   "execution_count": 53,
   "id": "1442d377",
   "metadata": {
    "id": "1442d377"
   },
   "outputs": [
    {
     "name": "stdout",
     "output_type": "stream",
     "text": [
      "0.9851708575112831\n",
      "[[1085   17]\n",
      " [   6  443]]\n",
      "              precision    recall  f1-score   support\n",
      "\n",
      "         ham       0.99      0.98      0.99      1102\n",
      "        spam       0.96      0.99      0.97       449\n",
      "\n",
      "    accuracy                           0.99      1551\n",
      "   macro avg       0.98      0.99      0.98      1551\n",
      "weighted avg       0.99      0.99      0.99      1551\n",
      "\n"
     ]
    },
    {
     "name": "stderr",
     "output_type": "stream",
     "text": [
      "C:\\Users\\garvi\\anaconda3\\lib\\site-packages\\sklearn\\linear_model\\_logistic.py:444: ConvergenceWarning: lbfgs failed to converge (status=1):\n",
      "STOP: TOTAL NO. of ITERATIONS REACHED LIMIT.\n",
      "\n",
      "Increase the number of iterations (max_iter) or scale the data as shown in:\n",
      "    https://scikit-learn.org/stable/modules/preprocessing.html\n",
      "Please also refer to the documentation for alternative solver options:\n",
      "    https://scikit-learn.org/stable/modules/linear_model.html#logistic-regression\n",
      "  n_iter_i = _check_optimize_result(\n"
     ]
    }
   ],
   "source": [
    "from sklearn.feature_extraction.text import CountVectorizer\n",
    "from sklearn.model_selection import train_test_split\n",
    "from sklearn.linear_model import LogisticRegression\n",
    "from sklearn.metrics import accuracy_score, confusion_matrix, classification_report\n",
    "\n",
    "# The CountVectorizer converts a text sample into a vector (think of it as an array of floats).\n",
    "# Each entry in the vector corresponds to a single word and the value is the number of times the word appeared.\n",
    "# Instantiate a CountVectorizer. Make sure to include the preprocessor you previously wrote in the constructor.\n",
    "# TODO\n",
    "vectorizer =  CountVectorizer()\n",
    "\n",
    "# Use train_test_split to split the dataset into a train dataset and a test dataset.\n",
    "# The machine learning model learns from the train dataset.\n",
    "# Then the trained model is tested on the test dataset to see if it actually learned anything.\n",
    "# If it just memorized for example, then it would have a low accuracy on the test dataset and a high accuracy on the train dataset.\n",
    "# TODO\n",
    "\n",
    "content = df[\"content\"].values\n",
    "label = df[\"category\"].values\n",
    "msg_train, msg_test, label_train, label_test = train_test_split(content, label, test_size = 0.3)\n",
    "\n",
    "# Use the vectorizer to transform the existing dataset into a form in which the model can learn from.\n",
    "# Remember that simple machine learning models operate on numbers, which the CountVectorizer conveniently helped us do.\n",
    "# TODO\n",
    "X_train = vectorizer.fit(msg_train)\n",
    "X_train = vectorizer.transform(msg_train)\n",
    "X_test = vectorizer.transform(msg_test)\n",
    "# Use the LogisticRegression model to fit to the train dataset.\n",
    "# You may remember y = mx + b and Linear Regression from high school. Here, we fitted a scatter plot to a line.\n",
    "# Logistic Regression is another form of regression. \n",
    "# However, Logistic Regression helps us determine if a point should be in category A or B, which is a perfect fit.\n",
    "# TODO\n",
    "\n",
    "lg = LogisticRegression()\n",
    "lg.fit(X_train, label_train)\n",
    "\n",
    "# Validate that the model has learned something.\n",
    "# Recall the model operates on vectors. First transform the test set using the vectorizer. \n",
    "# Then generate the predictions.\n",
    "# TODO\n",
    "\n",
    "predictions = lg.predict(X_test)\n",
    "\n",
    "# We now want to see how we have done. We will be using three functions.\n",
    "# `accuracy_score` tells us how well we have done. \n",
    "# 90% means that every 9 of 10 entries from the test dataset were predicted accurately.\n",
    "# The `confusion_matrix` is a 2x2 matrix that gives us more insight.\n",
    "# The top left shows us how many ham emails were predicted to be ham (that's good!).\n",
    "# The bottom right shows us how many spam emails were predicted to be spam (that's good!).\n",
    "# The other two quadrants tell us the misclassifications.\n",
    "# Finally, the `classification_report` gives us detailed statistics which you may have seen in a statistics class.\n",
    "# TODO\n",
    "print(accuracy_score(label_test, predictions))\n",
    "print(confusion_matrix(label_test, predictions))\n",
    "print(classification_report(label_test,predictions))\n"
   ]
  },
  {
   "cell_type": "markdown",
   "id": "9674d032",
   "metadata": {
    "id": "9674d032"
   },
   "source": [
    "Step 4."
   ]
  },
  {
   "cell_type": "code",
   "execution_count": 7,
   "id": "6b7d78c9",
   "metadata": {
    "id": "6b7d78c9"
   },
   "outputs": [],
   "source": [
    "# Let's see which features (aka columns) the vectorizer created. \n",
    "# They should be all the words that were contained in the training dataset.\n",
    "features = vectorizer.get_feature_names_out()\n",
    "\n",
    "# You may be wondering what a machine learning model is tangibly. It is just a collection of numbers. \n",
    "# You can access these numbers known as \"coefficients\" from the coef_ property of the model\n",
    "# We will be looking at coef_[0] which represents the importance of each feature.\n",
    "# What does importance mean in this context?\n",
    "# Some words are more important than others for the model.\n",
    "# It's nothing personal, just that spam emails tend to contain some words more frequently.\n",
    "# This indicates to the model that having that word would make a new email more likely to be spam.\n",
    "importance = lg.coef_[0]\n",
    "\n",
    "# Iterate over importance and find the top 10 positive features with the largest magnitude.\n",
    "# Similarly, find the top 10 negative features with the largest magnitude.\n",
    "# Positive features correspond to spam. Negative features correspond to ham.\n",
    "# You will see that `http` is the strongest feature that corresponds to spam emails. \n",
    "# It makes sense. Spam emails often want you to click on a link.\n"
   ]
  },
  {
   "cell_type": "code",
   "execution_count": 43,
   "id": "b987e1a9",
   "metadata": {},
   "outputs": [],
   "source": [
    "check_mail = [\"bout Yeag Technology Private Limited8 Platform | 21,400+ recruiters | 16,000+ Referrals | 1400+ Schools | 1.1 million+ Resume | 200+ Fellows. “Connecting Campus Students with Industrywith an aim to bring fundamental innovation in the education industry through artificial intelligence, data science and machine learning, We @Yeag Technology are continuously working towards creating data science integrated platform to provide various solution required to bring the said changes. Started in Jan 2016, we came a long way from where we began with an idea to various platform offering leading - edge solutions. - Strong mathematical skills to help collect, measure, organize and analyze data.We have openings for Data Science Engineer | - Intern | Trainee. Details are belowDesignation: Data Science EngineerExperience: FreshersLocation: Pan India / Depends on client LocationEligibility: B.Tech / B.sc/ BCA / or candidates with interest in CodingSalary Range:  LPA - 9LPA CTCSkillset Required- Experience in data mining.- Understanding of machine-learning and operations research.- Knowledge of R, SQL and Python; familiarity with Scala, Java or C++ is an asset.- Good knowledge of using business intelligence tools (e.g. Tableau) and data frameworks (e.g. Hadoop).- Analytical mind and business acumen.- Strong math skills (e.g. statistics, algebra).- Problem-solving aptitude.- Excellent communication and presentation skills.- BSc/BA in Computer Science, Engineering or relevant field; graduate degree in Data Science or other quantitative field is preferred.Interested one can schedule your telephonic Interview https://www.picktime.com/YeagTechnologyTelephonicConversationSchedulerIn case of any query you are free to contact with our team at +91-9540519995(WhatsApp).For updated jobs https://www.linkedin.com/showcase/42825656/WhatsApp Image 2022-07-08 at 4.47.20 PM.jpeg--You received this message because you are subscribed to the Google Groups MNC Jobs group.To unsubscribe from this group and stop receiving emails from it, send an email to mncjobindia+unsubscribe@googlegroups.com.To view this discussion on the web visit https://groups.google.com/d/msgid/mncjobindia/5b88249d-ded9-4809-b327-c7335d50e314n%40googlegroups.com.\"]"
   ]
  },
  {
   "cell_type": "code",
   "execution_count": 46,
   "id": "49d3779e",
   "metadata": {},
   "outputs": [],
   "source": [
    "check_mail = [\"FreeMsg Hey there darling it's been 3 week's now and no word back! I'd like some fun you up for it still? Tb ok! XxX std chgs to send, å£1.50 to rcv\"]"
   ]
  },
  {
   "cell_type": "code",
   "execution_count": 47,
   "id": "d7e42f34",
   "metadata": {},
   "outputs": [
    {
     "data": {
      "text/plain": [
       "\"freemsg hey there darling it's been 3 week's now and no word back  i'd like some fun you up for it still  tb ok  xxx std chgs to send, å£1.50 to rcv\""
      ]
     },
     "execution_count": 47,
     "metadata": {},
     "output_type": "execute_result"
    }
   ],
   "source": [
    "preprocessor(check_mail[0])"
   ]
  },
  {
   "cell_type": "code",
   "execution_count": 48,
   "id": "4e3f556f",
   "metadata": {},
   "outputs": [],
   "source": [
    "test = vectorizer.transform(check_mail)"
   ]
  },
  {
   "cell_type": "code",
   "execution_count": 49,
   "id": "4760d625",
   "metadata": {},
   "outputs": [],
   "source": [
    "predictions = lg.predict(test)"
   ]
  },
  {
   "cell_type": "code",
   "execution_count": 50,
   "id": "28c1a274",
   "metadata": {},
   "outputs": [
    {
     "data": {
      "text/plain": [
       "array(['spam'], dtype=object)"
      ]
     },
     "execution_count": 50,
     "metadata": {},
     "output_type": "execute_result"
    }
   ],
   "source": [
    "predictions"
   ]
  },
  {
   "cell_type": "markdown",
   "id": "d267e7ad",
   "metadata": {
    "id": "d267e7ad"
   },
   "source": [
    "Submission\n",
    "1. Upload the jupyter notebook to Forage."
   ]
  },
  {
   "cell_type": "markdown",
   "id": "LI4u_ZUGToDQ",
   "metadata": {
    "id": "LI4u_ZUGToDQ"
   },
   "source": [
    "All Done!"
   ]
  }
 ],
 "metadata": {
  "colab": {
   "collapsed_sections": [],
   "name": "task3.ipynb",
   "provenance": []
  },
  "kernelspec": {
   "display_name": "Python 3 (ipykernel)",
   "language": "python",
   "name": "python3"
  },
  "language_info": {
   "codemirror_mode": {
    "name": "ipython",
    "version": 3
   },
   "file_extension": ".py",
   "mimetype": "text/x-python",
   "name": "python",
   "nbconvert_exporter": "python",
   "pygments_lexer": "ipython3",
   "version": "3.9.12"
  }
 },
 "nbformat": 4,
 "nbformat_minor": 5
}
